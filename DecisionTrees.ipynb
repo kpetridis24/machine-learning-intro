{
  "cells": [
    {
      "cell_type": "markdown",
      "metadata": {
        "id": "eDrcOVDGnyDI"
      },
      "source": [
        "## About iPython Notebooks ##\n",
        "\n",
        "iPython Notebooks are interactive coding environments embedded in a webpage. You will be using iPython notebooks in this class. Make sure you fill in any place that says `# BEGIN CODE HERE #END CODE HERE`. After writing your code, you can run the cell by either pressing \"SHIFT\"+\"ENTER\" or by clicking on \"Run\" (denoted by a play symbol). Before you turn this problem in, make sure everything runs as expected. First, **restart the kernel** (in the menubar, select Kernel$\\rightarrow$Restart) and then **run all cells** (in the menubar, select Cell$\\rightarrow$Run All). \n",
        "\n",
        " **What you need to remember:**\n",
        "\n",
        "- Run your cells using SHIFT+ENTER (or \"Run cell\")\n",
        "- Write code in the designated areas using Python 3 only\n",
        "- Do not modify the code outside of the designated areas\n",
        "- In some cases you will also need to explain the results. There will also be designated areas for that. \n",
        "\n",
        "Fill in your **NAME** and **AEM** below:"
      ]
    },
    {
      "cell_type": "code",
      "execution_count": 1,
      "metadata": {
        "id": "JEJWwHpJnyDK"
      },
      "outputs": [],
      "source": [
        "NAME = \"Konstantinos Petridis\"\n",
        "AEM = \"9403\""
      ]
    },
    {
      "cell_type": "markdown",
      "metadata": {
        "id": "QRgauGbInyDM"
      },
      "source": [
        "---"
      ]
    },
    {
      "cell_type": "markdown",
      "metadata": {
        "deletable": false,
        "editable": false,
        "id": "_FF68cfznyDO",
        "nbgrader": {
          "cell_type": "markdown",
          "checksum": "ce63642cafb413e7903d83d2f2cd3637",
          "grade": false,
          "grade_id": "cell-f62db6dce1ed3f2e",
          "locked": true,
          "schema_version": 3,
          "solution": false,
          "task": false
        }
      },
      "source": [
        "# Assignment 2 - Decision Trees #"
      ]
    },
    {
      "cell_type": "markdown",
      "metadata": {
        "deletable": false,
        "editable": false,
        "id": "zq29ctnanyDO",
        "nbgrader": {
          "cell_type": "markdown",
          "checksum": "29d61ce286fdb8fd61c7f8e89a9e1339",
          "grade": false,
          "grade_id": "cell-dce2e73cee9a5017",
          "locked": true,
          "schema_version": 3,
          "solution": false,
          "task": false
        }
      },
      "source": [
        "Welcome to your second assignment. This exercise gives you an introduction to [scikit-learn](https://scikit-learn.org/stable/). A simple but efficient machine learning library in Python. It also gives you a wide understanding on how decision trees work. "
      ]
    },
    {
      "cell_type": "markdown",
      "metadata": {
        "deletable": false,
        "editable": false,
        "id": "mb4Wf4IdnyDP",
        "nbgrader": {
          "cell_type": "markdown",
          "checksum": "50a108d2f1e1a1ee2fde80743c0543fe",
          "grade": false,
          "grade_id": "cell-83ca2b0456fb85db",
          "locked": true,
          "schema_version": 3,
          "solution": false,
          "task": false
        }
      },
      "source": [
        "After this assignment you will:\n",
        "- Be able to use the scikit-learn library and train your own model from scratch.\n",
        "- Be able to train and understand decision trees."
      ]
    },
    {
      "cell_type": "code",
      "execution_count": 2,
      "metadata": {
        "deletable": false,
        "editable": false,
        "id": "sLqpxgvbnyDQ",
        "nbgrader": {
          "cell_type": "code",
          "checksum": "396c39a0797964c378ebb90cf18a29de",
          "grade": false,
          "grade_id": "cell-2cef6d48eea484d8",
          "locked": true,
          "schema_version": 3,
          "solution": false,
          "task": false
        }
      },
      "outputs": [],
      "source": [
        "# Always run this cell\n",
        "import numpy as np\n",
        "import pandas as pd\n",
        "from sklearn.datasets import load_breast_cancer\n",
        "from sklearn.model_selection import train_test_split\n",
        "from sklearn.tree import DecisionTreeClassifier, plot_tree\n",
        "from sklearn.metrics import f1_score, accuracy_score\n",
        "from sklearn.model_selection import train_test_split, GridSearchCV\n",
        "from sklearn.compose import ColumnTransformer\n",
        "from sklearn.pipeline import Pipeline\n",
        "from sklearn.impute import SimpleImputer\n",
        "from sklearn.preprocessing import OneHotEncoder, OrdinalEncoder\n",
        "import matplotlib.pyplot as plt\n",
        "\n",
        "# USE THIS RANDOM VARIABLE TO PRODUCE THE SAME RESULTS\n",
        "RANDOM_VARIABLE = 42"
      ]
    },
    {
      "cell_type": "markdown",
      "metadata": {
        "id": "eLqRTrLTnyDR"
      },
      "source": [
        "## 1. Scikit-Learn and Decision Trees ##\n",
        "\n",
        "You are going to use the scikit-learn library to train a model for detecting breast cancer using the [Breast cancer wisconsin (diagnostic) dataset](https://scikit-learn.org/stable/modules/generated/sklearn.datasets.load_breast_cancer.html#sklearn.datasets.load_breast_cancer) (+ [Additional information](https://scikit-learn.org/stable/datasets/toy_dataset.html#breast-cancer-dataset)) by training a model using [decision trees](https://scikit-learn.org/stable/modules/tree.html)."
      ]
    },
    {
      "cell_type": "markdown",
      "metadata": {
        "id": "b7d5K-BdnyDS"
      },
      "source": [
        "**1.1** Load the breast cancer dataset using the scikit learn library and split the dataset into train and test set using the appropriate function. Use 33% of the dataset as the test set. Define as X the attributes and as y the target values. Do not forget to set the random_state parameter as the *RANDOM_VARIABLE* defined above. Use this variable for all the random_state parameters in this assignment."
      ]
    },
    {
      "cell_type": "code",
      "execution_count": 3,
      "metadata": {
        "deletable": false,
        "id": "NfF54h6anyDS",
        "nbgrader": {
          "cell_type": "code",
          "checksum": "4b873328ea05f6ef9c08827168c7b835",
          "grade": false,
          "grade_id": "cell-1f0c2f3918333cf6",
          "locked": false,
          "schema_version": 3,
          "solution": true,
          "task": false
        }
      },
      "outputs": [],
      "source": [
        "# BEGIN CODE HERE\n",
        "X, y = load_breast_cancer(return_X_y=True)\n",
        "X_train, X_test, y_train, y_test = train_test_split(X, y, test_size=0.33,\n",
        "                                                    random_state=RANDOM_VARIABLE,\n",
        "                                                    shuffle=True)\n",
        "\n",
        "#END CODE HERE"
      ]
    },
    {
      "cell_type": "code",
      "execution_count": 4,
      "metadata": {
        "deletable": false,
        "editable": false,
        "id": "FiOtzHkpnyDT",
        "nbgrader": {
          "cell_type": "code",
          "checksum": "3603b2ba8916ffdad9e9c53f31546b4c",
          "grade": true,
          "grade_id": "cell-3f43c895ceaf57a9",
          "locked": true,
          "points": 2,
          "schema_version": 3,
          "solution": false,
          "task": false
        },
        "colab": {
          "base_uri": "https://localhost:8080/"
        },
        "outputId": "c2597de1-2e84-4455-cc38-b54576212bd1"
      },
      "outputs": [
        {
          "output_type": "stream",
          "name": "stdout",
          "text": [
            "Size of train set:381\n",
            "Size of test set:188\n",
            "Unique classes:2\n"
          ]
        }
      ],
      "source": [
        "print(\"Size of train set:{}\".format(len(y_train)))\n",
        "print(\"Size of test set:{}\".format(len(y_test)))\n",
        "print(\"Unique classes:{}\".format(len(set(y_test))))"
      ]
    },
    {
      "cell_type": "markdown",
      "metadata": {
        "deletable": false,
        "editable": false,
        "id": "JuW_lKVFnyDU",
        "nbgrader": {
          "cell_type": "markdown",
          "checksum": "62285a7bd3ab59718b89f7e09de0fea4",
          "grade": false,
          "grade_id": "cell-1ce621a108e76a15",
          "locked": true,
          "schema_version": 3,
          "solution": false,
          "task": false
        }
      },
      "source": [
        "**Expected output**:  \n",
        "\n",
        "```\n",
        "Size of train set:381  \n",
        "Size of test set:188  \n",
        "Unique classes:2\n",
        "```\n",
        "\n"
      ]
    },
    {
      "cell_type": "markdown",
      "metadata": {
        "id": "GUB8sl0NnyDV"
      },
      "source": [
        "**1.2** Train two DecisionTree classifiers and report the F1 score. Use the information gain for the one classifier and the Gini impurity for the other"
      ]
    },
    {
      "cell_type": "code",
      "execution_count": 5,
      "metadata": {
        "deletable": false,
        "id": "nPQFaOhLnyDW",
        "nbgrader": {
          "cell_type": "code",
          "checksum": "17197b62614427a979fcbab7ed2734dd",
          "grade": false,
          "grade_id": "cell-a7fa1d29509eb2a1",
          "locked": false,
          "schema_version": 3,
          "solution": true,
          "task": false
        }
      },
      "outputs": [],
      "source": [
        "# BEGIN CODE HERE\n",
        "classifier_gini = DecisionTreeClassifier(criterion='gini', random_state=RANDOM_VARIABLE)\n",
        "classifier_igain = DecisionTreeClassifier(criterion='entropy', random_state=RANDOM_VARIABLE)\n",
        "\n",
        "classifier_gini.fit(X_train, y_train)\n",
        "classifier_igain.fit(X_train, y_train)\n",
        "\n",
        "prediction_gini = classifier_gini.predict(X_test)\n",
        "prediction_igain = classifier_igain.predict(X_test)\n",
        "\n",
        "f_measure_gini = f1_score(y_test, prediction_gini)\n",
        "f_measure_igain = f1_score(y_test, prediction_igain)\n",
        "\n",
        "#END CODE HERE"
      ]
    },
    {
      "cell_type": "code",
      "execution_count": 6,
      "metadata": {
        "colab": {
          "base_uri": "https://localhost:8080/"
        },
        "deletable": false,
        "editable": false,
        "id": "qToIpGtnnyDX",
        "nbgrader": {
          "cell_type": "code",
          "checksum": "6d9aab4355c27c346f7e6548f233e758",
          "grade": true,
          "grade_id": "cell-09657a82bf4028c4",
          "locked": true,
          "points": 3,
          "schema_version": 3,
          "solution": false,
          "task": false
        },
        "outputId": "b17ed57c-d019-429d-c4d9-3366ea01bc19"
      },
      "outputs": [
        {
          "output_type": "stream",
          "name": "stdout",
          "text": [
            "F-Measure Gini: 0.9372384937238494\n",
            "F-Measure Information Gain: 0.9596774193548386\n"
          ]
        }
      ],
      "source": [
        "print(\"F-Measure Gini: {}\".format(f_measure_gini))\n",
        "print(\"F-Measure Information Gain: {}\".format(f_measure_igain))"
      ]
    },
    {
      "cell_type": "markdown",
      "metadata": {
        "deletable": false,
        "editable": false,
        "id": "hn9nblQ5nyDY",
        "nbgrader": {
          "cell_type": "markdown",
          "checksum": "f3facbbef0dd8f25ad12bfec7c174818",
          "grade": false,
          "grade_id": "cell-b0d8630f3b764cf3",
          "locked": true,
          "schema_version": 3,
          "solution": false,
          "task": false
        }
      },
      "source": [
        "**Expected output**:  \n",
        "\n",
        "```\n",
        "F-Measure Gini: 0.9372384937238494\n",
        "F-Measure Information Gain: 0.9596774193548386\n",
        "```"
      ]
    },
    {
      "cell_type": "markdown",
      "metadata": {
        "deletable": false,
        "editable": false,
        "id": "31Iyi9SJnyDZ",
        "nbgrader": {
          "cell_type": "markdown",
          "checksum": "f2532168d16e8c9bffba3d7d8e1efce7",
          "grade": false,
          "grade_id": "cell-591ba122016b6db5",
          "locked": true,
          "schema_version": 3,
          "solution": false,
          "task": false
        }
      },
      "source": [
        "**1.3** Find the maximum depth reached by the tree that used the Gini impurity. Train multiple classifiers by modifying the max_depth within the range from 1 to maximum depth and save the f1 scores to the corresponding list of the *fscores* dictionary (one list for training set and one for test set). Before appending the scores to the corresponding list, multiply them by 100, and round the values to 2 decimals."
      ]
    },
    {
      "cell_type": "code",
      "execution_count": 7,
      "metadata": {
        "deletable": false,
        "id": "U7gSfRu_nyDa",
        "nbgrader": {
          "cell_type": "code",
          "checksum": "54cf257e90a3cb5877db81297bedd45c",
          "grade": false,
          "grade_id": "cell-31c58b6161a3907d",
          "locked": false,
          "schema_version": 3,
          "solution": true,
          "task": false
        }
      },
      "outputs": [],
      "source": [
        "from scipy.sparse.construct import rand\n",
        "# BEGIN CODE HERE\n",
        "depth = 7\n",
        "# print(depth)\n",
        "fscores = {}\n",
        "fscores['train'] = []\n",
        "fscores['test'] = []\n",
        "\n",
        "for i in range(1, depth + 1):\n",
        "    clf = DecisionTreeClassifier(criterion='gini', max_depth=i, random_state=RANDOM_VARIABLE)\n",
        "    clf.fit(X_train, y_train)\n",
        "    fscores['train'].append(round(100 * f1_score(y_train, clf.predict(X_train)), 2))\n",
        "    fscores['test'].append(round(100 * f1_score(y_test, clf.predict(X_test)), 2))\n",
        "#END CODE HERE"
      ]
    },
    {
      "cell_type": "code",
      "execution_count": 8,
      "metadata": {
        "colab": {
          "base_uri": "https://localhost:8080/"
        },
        "deletable": false,
        "editable": false,
        "id": "2395Por-nyDa",
        "nbgrader": {
          "cell_type": "code",
          "checksum": "70a249937f2f690c6ce855debaed204c",
          "grade": true,
          "grade_id": "cell-0c300109423f53b9",
          "locked": true,
          "points": 5,
          "schema_version": 3,
          "solution": false,
          "task": false
        },
        "outputId": "d444b72d-5754-480c-b1b2-5eef2c775231"
      },
      "outputs": [
        {
          "output_type": "stream",
          "name": "stdout",
          "text": [
            "Fscores Train: [94.24, 95.46, 97.65, 99.15, 99.37, 99.58, 100.0]\n",
            "Fscores Test:  [91.14, 93.97, 96.64, 94.12, 95.4, 95.04, 93.72]\n"
          ]
        }
      ],
      "source": [
        "print(\"Fscores Train: {}\".format(fscores['train']))\n",
        "print(\"Fscores Test:  {}\".format(fscores['test']))\n"
      ]
    },
    {
      "cell_type": "markdown",
      "metadata": {
        "deletable": false,
        "editable": false,
        "id": "f37yzYcbnyDb",
        "nbgrader": {
          "cell_type": "markdown",
          "checksum": "3db472d2b9db7a42cc012cd96fdeb499",
          "grade": false,
          "grade_id": "cell-75789627f20d2c94",
          "locked": true,
          "schema_version": 3,
          "solution": false,
          "task": false
        }
      },
      "source": [
        "**Expected output**:  \n",
        "```\n",
        "Fscores Train: [94.24, 95.46, 97.65, 99.15, 99.37, 99.58, 100.0]\n",
        "Fscores Test:  [91.14, 93.97, 96.64, 94.12, 95.4, 95.04, 93.72]\n",
        "```"
      ]
    },
    {
      "cell_type": "markdown",
      "metadata": {
        "deletable": false,
        "editable": false,
        "id": "4stz0V9knyDd",
        "nbgrader": {
          "cell_type": "markdown",
          "checksum": "bca7d4c160c767d27a09b4620d27d56e",
          "grade": false,
          "grade_id": "cell-5906e6d5efa70282",
          "locked": true,
          "schema_version": 3,
          "solution": false,
          "task": false
        }
      },
      "source": [
        "**1.4** Compare the results from the train set with the results from the test set. What do you notice? How are you going to choose the max_depth of your model?"
      ]
    },
    {
      "cell_type": "markdown",
      "metadata": {
        "deletable": false,
        "id": "kwtDaX3JnyDe",
        "nbgrader": {
          "cell_type": "markdown",
          "checksum": "424ac10e4e22ca9e32207deee3bf0f57",
          "grade": true,
          "grade_id": "cell-c9c6ea0e40d98b83",
          "locked": false,
          "points": 5,
          "schema_version": 3,
          "solution": true,
          "task": false
        }
      },
      "source": [
        "*YOUR* ANSWER HERE"
      ]
    },
    {
      "cell_type": "code",
      "source": [
        "\"\"\"\n",
        "We notice that when we increase the max depth, the model performs better on the\n",
        "training set, however it reaches a point after which, overfitting occurs. This\n",
        "phenomenon is prominent if we observe the score on the test set, which, after\n",
        "a max_depth of 3, begins to gradually decrease, while the improvement rate on the\n",
        "training set decreases drastically. Based on the results, the optimal max_depth\n",
        "for the best model accuracy on both data sets, is \n",
        "max_depth=3 and max_depth=5\n",
        "\"\"\""
      ],
      "metadata": {
        "colab": {
          "base_uri": "https://localhost:8080/",
          "height": 70
        },
        "id": "gEgDfXD4PFZ-",
        "outputId": "5d3f90a9-055b-49f7-eb87-4efb8843ddd7"
      },
      "execution_count": 9,
      "outputs": [
        {
          "output_type": "execute_result",
          "data": {
            "text/plain": [
              "'\\nWe notice that when we increase the max depth, the model performs better on the\\ntraining set, however it reaches a point after which, overfitting occurs. This\\nphenomenon is prominent if we observe the score on the test set, which, after\\na max_depth of 3, begins to gradually decrease, while the improvement rate on the\\ntraining set decreases drastically. Based on the results, the optimal max_depth\\nfor the best model accuracy on both data sets, is \\nmax_depth=3 and max_depth=5\\n'"
            ],
            "application/vnd.google.colaboratory.intrinsic+json": {
              "type": "string"
            }
          },
          "metadata": {},
          "execution_count": 9
        }
      ]
    },
    {
      "cell_type": "markdown",
      "metadata": {
        "deletable": false,
        "editable": false,
        "id": "PIw1fVFenyDe",
        "nbgrader": {
          "cell_type": "markdown",
          "checksum": "217666fcc2e383d6f2c1904c9d6a71be",
          "grade": false,
          "grade_id": "cell-9ef42e6c90ea2ffe",
          "locked": true,
          "schema_version": 3,
          "solution": false,
          "task": false
        }
      },
      "source": [
        "## 2.0 Pipelines ##\n",
        "\n",
        "**2.1** In this part of the exercise you are going to build a pipeline from scratch for a classification problem. Load the **income.csv** file and train a DecisionTree model that will predict the *income* variable. This dataset is a modification of the original Adult Income dataset found [here](http://archive.ics.uci.edu/ml/datasets/Adult). Report the f1-score and accuracy score of the test set found in **income_test.csv**. Your pipeline should be able to handle missing values and categorical features (scikit-learn's decision trees do not handle categorical values). You can preprocess the dataset as you like in order to achieve higher scores.  "
      ]
    },
    {
      "cell_type": "code",
      "execution_count": 10,
      "metadata": {
        "id": "7jJW-avitO9E"
      },
      "outputs": [],
      "source": [
        "# BEGIN CODE HERE\n",
        "train_set = pd.read_csv('income.csv')\n",
        "train_set['income'] = train_set['income'].map({ \"<=50K\": 0, \">50K\": 1 })\n",
        "X_train = train_set.drop(['income'], axis=1)\n",
        "y_train = train_set['income']\n",
        "\n",
        "\n",
        "test_set = pd.read_csv('income_test.csv')\n",
        "test_set['income'] = test_set['income'].map({ \"<=50K\": 0, \">50K\": 1 })\n",
        "X_test = test_set.drop(['income'], axis=1)\n",
        "y_test = test_set['income']\n",
        "\n",
        "# any other code you need\n",
        "# End CODE HERE"
      ]
    },
    {
      "cell_type": "markdown",
      "metadata": {
        "id": "akVGpGHDuav4"
      },
      "source": [
        "**2.2** Create and test your pipeline"
      ]
    },
    {
      "cell_type": "code",
      "execution_count": 11,
      "metadata": {
        "id": "pv6z98huuZ6M"
      },
      "outputs": [],
      "source": [
        "#Your pipeline\n",
        "from sklearn.preprocessing import LabelEncoder\n",
        "\n",
        "categorical_features = ['workclass', 'education', 'marital-status',\n",
        "                        'occupation', 'relationship', 'race', 'sex']\n",
        "\n",
        "categorical_transformer = Pipeline(\n",
        "    steps=[\n",
        "           ('imputer', SimpleImputer(strategy='most_frequent')),\n",
        "           ('encoding', OneHotEncoder())\n",
        "    ]\n",
        ")\n",
        "\n",
        "preprocessor = ColumnTransformer(\n",
        "    transformers=[\n",
        "        ('categorical', categorical_transformer, categorical_features)\n",
        "    ]\n",
        ")\n",
        "\n",
        "clf = Pipeline(\n",
        "    steps=[\n",
        "          ('preprocessor', preprocessor),\n",
        "          ('classifier', DecisionTreeClassifier())\n",
        "    ]\n",
        ")\n",
        "\n",
        "clf.fit(X_train, y_train)\n",
        "y_predict = clf.predict(X_test)"
      ]
    },
    {
      "cell_type": "code",
      "execution_count": 12,
      "metadata": {
        "id": "3uaArYmQvKcf",
        "colab": {
          "base_uri": "https://localhost:8080/"
        },
        "outputId": "5709d181-4f9c-4cf9-e5f4-fba763d6df44"
      },
      "outputs": [
        {
          "output_type": "stream",
          "name": "stdout",
          "text": [
            "Model score Accuracy: 0.816\n",
            "Model score F1 Weighted: 0.809\n"
          ]
        }
      ],
      "source": [
        "print(\"Model score Accuracy: %.3f\" % accuracy_score(y_test, y_predict))\n",
        "print(\"Model score F1 Weighted: %.3f\" % f1_score(y_test, y_predict,average='weighted'))"
      ]
    },
    {
      "cell_type": "markdown",
      "metadata": {
        "id": "Zz_MWnYY2r3-"
      },
      "source": [
        "**2.3** Perform a gooood grid search to find the best parameters for your pipeline"
      ]
    },
    {
      "cell_type": "code",
      "execution_count": 13,
      "metadata": {
        "deletable": false,
        "id": "RNECyUFtnyDf",
        "nbgrader": {
          "cell_type": "code",
          "checksum": "152ab2dd6861b198b879a78ebadc4ee4",
          "grade": true,
          "grade_id": "cell-dd950ab2eb40d8a4",
          "locked": false,
          "points": 45,
          "schema_version": 3,
          "solution": true,
          "task": false
        },
        "colab": {
          "base_uri": "https://localhost:8080/"
        },
        "outputId": "f7b34857-6dde-47ae-8ed6-40e5afc2836a"
      },
      "outputs": [
        {
          "output_type": "stream",
          "name": "stdout",
          "text": [
            "Best params:\n",
            "{'classifier__criterion': 'entropy', 'classifier__max_depth': 24, 'classifier__max_features': 0.75, 'classifier__min_samples_leaf': 10}\n"
          ]
        }
      ],
      "source": [
        "param_grid = {\n",
        "    \"classifier__max_depth\": [7, 10, 14, 18, 21, 24],\n",
        "    \"classifier__criterion\": [\"gini\",\"entropy\"],\n",
        "    \"classifier__max_features\": [0.25, 0.5, 0.75, None],\n",
        "    \"classifier__min_samples_leaf\": [5, 10, 20, 40, 50],\n",
        "}\n",
        "\n",
        "grid_search = GridSearchCV(clf, param_grid, cv=5)\n",
        "grid_search.fit(X_train, y_train)\n",
        "y_predict = grid_search.predict(X_test)\n",
        "\n",
        "print(\"Best params:\")\n",
        "print(grid_search.best_params_)"
      ]
    },
    {
      "cell_type": "code",
      "execution_count": 14,
      "metadata": {
        "id": "OhE0haFuw57D",
        "colab": {
          "base_uri": "https://localhost:8080/"
        },
        "outputId": "c1838d0b-401d-451a-b386-086d18e03b98"
      },
      "outputs": [
        {
          "output_type": "stream",
          "name": "stdout",
          "text": [
            "Model score Accuracy: 0.827\n",
            "Model score F1 Weighted: 0.818\n"
          ]
        }
      ],
      "source": [
        "print(\"Model score Accuracy: %.3f\" % accuracy_score(y_test,y_predict))\n",
        "print(\"Model score F1 Weighted: %.3f\" % f1_score(y_test,y_predict,average='weighted'))"
      ]
    },
    {
      "cell_type": "markdown",
      "metadata": {
        "deletable": false,
        "editable": false,
        "id": "f_lIQ1-wnyDg",
        "nbgrader": {
          "cell_type": "markdown",
          "checksum": "ee9d4c2635307395bdef2efb941106ae",
          "grade": false,
          "grade_id": "cell-2c3327274958bbad",
          "locked": true,
          "schema_version": 3,
          "solution": false,
          "task": false
        }
      },
      "source": [
        "**2.4** Describe the process you followed to achieve the results above. Your description should include, but is not limited to the following \n",
        "- How do you handle missing values and why\n",
        "- How do you handle categorical variables and why\n",
        "- Any further preprocessing steps\n",
        "- How do you evaluate your model and how did you choose its parameters \n",
        "- Report any additional results and comments on your approach.\n",
        "\n",
        "You should achieve at least 85% accuracy score and 84% f1 score."
      ]
    },
    {
      "cell_type": "markdown",
      "metadata": {
        "deletable": false,
        "id": "76FF0gYVnyDh",
        "nbgrader": {
          "cell_type": "markdown",
          "checksum": "1aaf3ddda45b52c2e43089b082d030f1",
          "grade": true,
          "grade_id": "cell-80274fd09b80518c",
          "locked": false,
          "points": 20,
          "schema_version": 3,
          "solution": true,
          "task": false
        }
      },
      "source": [
        "YOUR ANSWER HERE"
      ]
    },
    {
      "cell_type": "code",
      "source": [
        "\"\"\"\n",
        "1) After examining the data set, we observe that no numerical values are missing.\n",
        "However, there are two parameters with missing values, which are both of type\n",
        "object (string). One first thought would be to exclude all entries with missing \n",
        "values, however here we prefer another strategy, to take advantage of the entire\n",
        "dataset. We fill the missing values using the most frequently encountered\n",
        "value, which seems to make sense statistically.\n",
        "\n",
        "2) Categorical values are handled, by applying a one hot encoding on all \n",
        "categorical features, since Tree models in sklearn can only deal with numerical\n",
        "values. We prefer One Hot Encoding instead of a regular Label Encoding (assignement\n",
        "of a single number to each feature), because this leads in some arbitrary relations\n",
        "between them (which in most cases are wrong). For example Male:0 and Female:1\n",
        "means that Male<Female which does not make sense based on the real meanings of \n",
        "the variables.\n",
        "\n",
        "3) No further preprocessing steps.\n",
        "\n",
        "4) The parameters were initially chosen in an arbitrary manner. Observation of\n",
        "the evaluation results provided necessary information to modify some parameters\n",
        "and achieve a better accuracy. For example at first i had the max value for the \n",
        "max depth to be 10, and the model performed best at that value. So i increased it\n",
        "until i noticed a decrease in the accuracy. \n",
        "\"\"\""
      ],
      "metadata": {
        "colab": {
          "base_uri": "https://localhost:8080/",
          "height": 123
        },
        "id": "eTkH-YlcDCy7",
        "outputId": "b9bbee22-06d7-4b73-efb1-26b48edf42bd"
      },
      "execution_count": 15,
      "outputs": [
        {
          "output_type": "execute_result",
          "data": {
            "text/plain": [
              "'\\n1) After examining the data set, we observe that no numerical values are missing.\\nHowever, there are two parameters with missing values, which are both of type\\nobject (string). One first thought would be to exclude all entries with missing \\nvalues, however here we prefer another strategy, to take advantage of the entire\\ndataset. We fill the missing values using the most frequently encountered\\nvalue, which seems to make sense statistically.\\n\\n2) Categorical values are handled, by applying a one hot encoding on all \\ncategorical features, since Tree models in sklearn can only deal with numerical\\nvalues. We prefer One Hot Encoding instead of a regular Label Encoding (assignement\\nof a single number to each feature), because this leads in some arbitrary relations\\nbetween them (which in most cases are wrong). For example Male:0 and Female:1\\nmeans that Male<Female which does not make sense based on the real meanings of \\nthe variables.\\n\\n3) No further preprocessing steps.\\n\\n4) The parameters were initially chosen in an arbitrary manner. Observation of\\nthe evaluation results provided necessary information to modify some parameters\\nand achieve a better accuracy. For example at first i had the max value for the \\nmax depth to be 10, and the model performed best at that value. So i increased it\\nuntil i noticed a decrease in the accuracy. \\n'"
            ],
            "application/vnd.google.colaboratory.intrinsic+json": {
              "type": "string"
            }
          },
          "metadata": {},
          "execution_count": 15
        }
      ]
    },
    {
      "cell_type": "markdown",
      "metadata": {
        "deletable": false,
        "editable": false,
        "id": "mNqPY_yanyDj",
        "nbgrader": {
          "cell_type": "markdown",
          "checksum": "8cef3f333ab449ed91b81ea96695e712",
          "grade": false,
          "grade_id": "cell-555d20216f9bbec2",
          "locked": true,
          "schema_version": 3,
          "solution": false,
          "task": false
        }
      },
      "source": [
        "## 3.0 Common Issues ## "
      ]
    },
    {
      "cell_type": "markdown",
      "metadata": {
        "id": "USyDSnDCnyDk"
      },
      "source": [
        "**3.0** Run the following code to define a DecisionTreeModel and load the **income** dataset only with the numerical variables. Then, answer the following questions. "
      ]
    },
    {
      "cell_type": "code",
      "execution_count": 16,
      "metadata": {
        "deletable": false,
        "editable": false,
        "id": "G9M3JhlpnyDl",
        "nbgrader": {
          "cell_type": "code",
          "checksum": "ae0f57b86252cc38b02cac3d05e08bbf",
          "grade": false,
          "grade_id": "cell-d7f58621bad12aad",
          "locked": true,
          "schema_version": 3,
          "solution": false,
          "task": false
        },
        "colab": {
          "base_uri": "https://localhost:8080/"
        },
        "outputId": "4ff1b5e0-5445-47e3-86fd-9cf4b70cc47e"
      },
      "outputs": [
        {
          "output_type": "stream",
          "name": "stdout",
          "text": [
            "Model score accuracy: 0.827\n"
          ]
        }
      ],
      "source": [
        "# Load Data\n",
        "columns = ['age','fnlwgt','education_num','hours-per-week',\"capital-loss\",\"capital-gain\",\"income\"]\n",
        "data = pd.read_csv('income.csv',usecols=columns)\n",
        "data_test = pd.read_csv('income_test.csv',usecols=columns)\n",
        "# Convert target variable to 0 and 1\n",
        "data[\"income\"] = data[\"income\"].map({ \"<=50K\": 0, \">50K\": 1 })\n",
        "data_test[\"income\"] = data_test[\"income\"].map({ \"<=50K\": 0, \">50K\": 1 })\n",
        "# Create X and y\n",
        "X_train = data.drop([\"income\"],axis=1)\n",
        "y_train = data['income'].values\n",
        "X_test = data_test.drop([\"income\"],axis=1)\n",
        "y_test = data_test['income'].values\n",
        "# Classifier\n",
        "classifier = DecisionTreeClassifier(min_samples_leaf=4)\n",
        "classifier.fit(X_train,y_train)\n",
        "accuracy_score = accuracy_score(y_test,y_predict)\n",
        "print(\"Model score accuracy: %.3f\" % accuracy_score)"
      ]
    },
    {
      "cell_type": "markdown",
      "metadata": {
        "deletable": false,
        "editable": false,
        "id": "Yal5vVVInyDo",
        "nbgrader": {
          "cell_type": "markdown",
          "checksum": "c3981752b539236e99415ab6e2cbea1f",
          "grade": false,
          "grade_id": "cell-9b18d6c4e381a9f5",
          "locked": true,
          "schema_version": 3,
          "solution": false,
          "task": false
        }
      },
      "source": [
        "**3.1** Evaluate the classifier using at least three evaluation metrics except accuracy_score and f1 (weighted)."
      ]
    },
    {
      "cell_type": "code",
      "execution_count": 17,
      "metadata": {
        "deletable": false,
        "id": "4HaPGUuUnyDo",
        "nbgrader": {
          "cell_type": "code",
          "checksum": "12b88026c150b617074a5c06fea36b73",
          "grade": true,
          "grade_id": "cell-905e7dceeb4172c3",
          "locked": false,
          "points": 5,
          "schema_version": 3,
          "solution": true,
          "task": false
        }
      },
      "outputs": [],
      "source": [
        "from sklearn.metrics import balanced_accuracy_score, average_precision_score, f1_score\n",
        "y_predict = classifier.predict(X_test)\n",
        "\n",
        "# BEGIN CODE HERE\n",
        "metric1 = balanced_accuracy_score(y_test, y_predict, adjusted=True)\n",
        "metric2 = average_precision_score(y_test, y_predict, average='weighted')\n",
        "metric3 = f1_score(y_test, y_predict, average='weighted')\n",
        "#END CODE HERE"
      ]
    },
    {
      "cell_type": "code",
      "execution_count": 18,
      "metadata": {
        "id": "H03BYlAC6B5u",
        "colab": {
          "base_uri": "https://localhost:8080/"
        },
        "outputId": "6012c475-48b3-44fb-90a2-9d6fdd7befff"
      },
      "outputs": [
        {
          "output_type": "stream",
          "name": "stdout",
          "text": [
            "Model score Metric 1: 0.375\n",
            "Model score Metric 2: 0.414\n",
            "Model score Metric 3: 0.783\n"
          ]
        }
      ],
      "source": [
        "print(\"Model score Metric 1: %.3f\" % metric1)\n",
        "print(\"Model score Metric 2: %.3f\" % metric2)\n",
        "print(\"Model score Metric 3: %.3f\" % metric3)"
      ]
    },
    {
      "cell_type": "markdown",
      "metadata": {
        "deletable": false,
        "editable": false,
        "id": "YJxhaPxdnyDr",
        "nbgrader": {
          "cell_type": "markdown",
          "checksum": "361d4753f3c8491a34ff55b6fa3a49b5",
          "grade": false,
          "grade_id": "cell-1f23f3e27600f019",
          "locked": true,
          "schema_version": 3,
          "solution": false,
          "task": false
        }
      },
      "source": [
        "**3.2** Do you notice any problems with the classifier? If so, what can you do to change this."
      ]
    },
    {
      "cell_type": "code",
      "source": [
        "\"\"\"\n",
        "So, the problem here is obviously overfitting, as we have applied an exhaustive\n",
        "grid search to compute the optimal parameters for our model, based on its \n",
        "performance on the training set exclusively. As a result, although performing\n",
        "good on the training set, our model fails to handle data, that are not seen \n",
        "before with a reasonable accuracy.\n",
        "\n",
        "In order to resolve this issue, we should apply different methods and observe \n",
        "the effect that they have on the model's accuracy:\n",
        "\n",
        "1) Using validation set\n",
        "2) Requiring a minimum number of examples in a node\n",
        "3) Limiting the maximum depth\n",
        "4) Splitting the dataset into k-folds and using cross validation to compute the\n",
        "   optimal parameters\n",
        "\"\"\""
      ],
      "metadata": {
        "colab": {
          "base_uri": "https://localhost:8080/",
          "height": 88
        },
        "id": "BFqvLZiA_JGS",
        "outputId": "46773fca-d99b-4c17-84e3-902d81faa678"
      },
      "execution_count": 19,
      "outputs": [
        {
          "output_type": "execute_result",
          "data": {
            "text/plain": [
              "\"\\nSo, the problem here is obviously overfitting, as we have applied an exhaustive\\ngrid search to compute the optimal parameters for our model, based on its \\nperformance on the training set exclusively. As a result, although performing\\ngood on the training set, our model fails to handle data, that are not seen \\nbefore with a reasonable accuracy.\\n\\nIn order to resolve this issue, we should apply different methods and observe \\nthe effect that they have on the model's accuracy:\\n\\n1) Using validation set\\n2) Requiring a minimum number of examples in a node\\n3) Limiting the maximum depth\\n4) Splitting the dataset into k-folds and using cross validation to compute the\\n   optimal parameters\\n\""
            ],
            "application/vnd.google.colaboratory.intrinsic+json": {
              "type": "string"
            }
          },
          "metadata": {},
          "execution_count": 19
        }
      ]
    },
    {
      "cell_type": "markdown",
      "metadata": {
        "deletable": false,
        "editable": false,
        "id": "WCN7E_ctnyDu",
        "nbgrader": {
          "cell_type": "markdown",
          "checksum": "747645b33cb4f5c14796504fac6bf3ce",
          "grade": false,
          "grade_id": "cell-89715acd6c51b332",
          "locked": true,
          "schema_version": 3,
          "solution": false,
          "task": false
        }
      },
      "source": [
        "**3.3** Implement your solution using the cells below. Report your results and the process you followed. You are reccommended to use stratification and grid search. You should only have to increase a little bit the metrics you calculated above, and also reach an accuracy score higher than 82%!"
      ]
    },
    {
      "cell_type": "code",
      "source": [
        "from sklearn.model_selection import KFold, StratifiedKFold\n",
        "\n",
        "columns = ['age','fnlwgt','education_num','hours-per-week',\"capital-loss\",\"capital-gain\",\"income\"]\n",
        "data = pd.read_csv('income.csv',usecols=columns)\n",
        "data_test = pd.read_csv('income_test.csv',usecols=columns)\n",
        "# Convert target variable to 0 and 1\n",
        "data[\"income\"] = data[\"income\"].map({ \"<=50K\": 0, \">50K\": 1 })\n",
        "data_test[\"income\"] = data_test[\"income\"].map({ \"<=50K\": 0, \">50K\": 1 })\n",
        "\n",
        "# data.info()\n",
        "data = np.vstack((np.array(data), np.array(data_test)))\n",
        "# pd.DataFrame(data)\n",
        "\n",
        "X = pd.DataFrame(data[:,0:6])\n",
        "y = pd.DataFrame(data[:,6])\n",
        "\n",
        "X_train, X_test, y_train, y_test = \\\n",
        "                        train_test_split(X, y, test_size=0.4, random_state=0,\n",
        "                                         shuffle=True, stratify=y)\n",
        "                      \n",
        "cv_inner = StratifiedKFold(n_splits=5, shuffle=True, random_state=0)\n",
        "tree = DecisionTreeClassifier(random_state=0)\n",
        "\n",
        "param_grid = {\n",
        "    \"max_depth\": [5, 10],\n",
        "    \"criterion\": [\"gini\",\"entropy\"],\n",
        "    \"min_samples_leaf\": [20, 40, 50, 70],\n",
        "}\n",
        "\n",
        "grid_search = GridSearchCV(tree, param_grid, cv=cv_inner, scoring='accuracy')\n",
        "grid_search.fit(X_train, y_train)\n",
        "y_predict = grid_search.predict(X_test)\n",
        "\n",
        "print(\"Best params:\")\n",
        "print(grid_search.best_params_)"
      ],
      "metadata": {
        "colab": {
          "base_uri": "https://localhost:8080/"
        },
        "id": "lqzHJNdwHjK-",
        "outputId": "1ea9c963-1311-450a-91d2-8fa4fa499b68"
      },
      "execution_count": 20,
      "outputs": [
        {
          "output_type": "stream",
          "name": "stdout",
          "text": [
            "Best params:\n",
            "{'criterion': 'gini', 'max_depth': 10, 'min_samples_leaf': 20}\n"
          ]
        }
      ]
    },
    {
      "cell_type": "code",
      "source": [
        "metric1 = balanced_accuracy_score(y_test, y_predict, adjusted=False)\n",
        "metric2 = average_precision_score(y_test, y_predict, average='weighted')\n",
        "metric3 = f1_score(y_test, y_predict, average='weighted')\n",
        "\n",
        "print(\"Model score accuracy: %.3f\" % accuracy_score)\n",
        "print(\"Model score Metric 1: %.3f\" % metric1)\n",
        "print(\"Model score Metric 2: %.3f\" % metric2)\n",
        "print(\"Model score Metric 3: %.3f\" % metric3)"
      ],
      "metadata": {
        "colab": {
          "base_uri": "https://localhost:8080/"
        },
        "id": "ExFRfUgILTjl",
        "outputId": "7cce96d5-090b-4f04-837d-e6c51162344c"
      },
      "execution_count": 21,
      "outputs": [
        {
          "output_type": "stream",
          "name": "stdout",
          "text": [
            "Model score accuracy: 0.827\n",
            "Model score Metric 1: 0.700\n",
            "Model score Metric 2: 0.467\n",
            "Model score Metric 3: 0.813\n"
          ]
        }
      ]
    },
    {
      "cell_type": "code",
      "execution_count": 22,
      "metadata": {
        "deletable": false,
        "id": "g9Wzx0bknyDv",
        "nbgrader": {
          "cell_type": "code",
          "checksum": "ccd1d12620f1a3e1c7b026b862056546",
          "grade": true,
          "grade_id": "cell-f44811f1e99ee41e",
          "locked": false,
          "points": 5,
          "schema_version": 3,
          "solution": true,
          "task": false
        },
        "colab": {
          "base_uri": "https://localhost:8080/"
        },
        "outputId": "c439f779-b133-4068-f1ae-9a9157c1106d"
      },
      "outputs": [
        {
          "output_type": "stream",
          "name": "stdout",
          "text": [
            "Depth 1\n",
            "Accuracy on training set: 0.800\n",
            "Accuracy on test set: 0.802\n",
            "Depth 2\n",
            "Accuracy on training set: 0.800\n",
            "Accuracy on test set: 0.802\n",
            "Depth 3\n",
            "Accuracy on training set: 0.805\n",
            "Accuracy on test set: 0.804\n",
            "Depth 4\n",
            "Accuracy on training set: 0.814\n",
            "Accuracy on test set: 0.818\n",
            "Depth 5\n",
            "Accuracy on training set: 0.832\n",
            "Accuracy on test set: 0.831\n",
            "Depth 6\n",
            "Accuracy on training set: 0.834\n",
            "Accuracy on test set: 0.831\n",
            "Depth 7\n",
            "Accuracy on training set: 0.836\n",
            "Accuracy on test set: 0.830\n",
            "Depth 8\n",
            "Accuracy on training set: 0.839\n",
            "Accuracy on test set: 0.830\n",
            "Depth 9\n",
            "Accuracy on training set: 0.841\n",
            "Accuracy on test set: 0.829\n",
            "Depth 10\n",
            "Accuracy on training set: 0.844\n",
            "Accuracy on test set: 0.827\n",
            "Depth 11\n",
            "Accuracy on training set: 0.848\n",
            "Accuracy on test set: 0.826\n",
            "Depth 12\n",
            "Accuracy on training set: 0.853\n",
            "Accuracy on test set: 0.825\n",
            "Depth 13\n",
            "Accuracy on training set: 0.858\n",
            "Accuracy on test set: 0.820\n",
            "Depth 14\n",
            "Accuracy on training set: 0.866\n",
            "Accuracy on test set: 0.815\n",
            "Model score accuracy: 0.827\n",
            "Model score Metric 1: 0.703\n",
            "Model score Metric 2: 0.463\n",
            "Model score Metric 3: 0.812\n"
          ]
        }
      ],
      "source": [
        "# BEGIN CODE HERE\n",
        "\n",
        "X_train, X_val, y_train, y_val = train_test_split(\n",
        "    X_train, y_train, test_size=0.2, random_state=1, stratify=y_train)\n",
        "\n",
        "for d in range(1,15,1):\n",
        "    print(\"Depth %d\" %d)\n",
        "    tree = DecisionTreeClassifier(max_depth=d, random_state=0)\n",
        "    tree.fit(X_train, y_train)\n",
        "    print(\"Accuracy on training set: {:.3f}\".format(tree.score(X_train, y_train)))\n",
        "    print(\"Accuracy on test set: {:.3f}\".format(tree.score(X_test, y_test)))\n",
        "\n",
        "# Train new model\n",
        "tree = DecisionTreeClassifier(max_depth=11, random_state=0)\n",
        "tree.fit(X_train, y_train)\n",
        "y_predict = tree.predict(X_test)\n",
        "\n",
        "# evaluation metrics\n",
        "metric1 = balanced_accuracy_score(y_test, y_predict, adjusted=False)\n",
        "metric2 = average_precision_score(y_test, y_predict, average='weighted')\n",
        "metric3 = f1_score(y_test, y_predict, average='weighted')\n",
        "\n",
        "print(\"Model score accuracy: %.3f\" % accuracy_score)\n",
        "print(\"Model score Metric 1: %.3f\" % metric1)\n",
        "print(\"Model score Metric 2: %.3f\" % metric2)\n",
        "print(\"Model score Metric 3: %.3f\" % metric3)\n",
        "#END CODE HERE"
      ]
    },
    {
      "cell_type": "code",
      "source": [
        "accTrain = []\n",
        "accTest = []\n",
        "accVal = []\n",
        "lnS = []\n",
        "\n",
        "for ln in range(2,40,1):\n",
        "    lnS.append(ln)\n",
        "    tree = DecisionTreeClassifier(min_samples_leaf=ln, random_state=0)\n",
        "    tree.fit(X_train, y_train)\n",
        "    trainAc = tree.score(X_train, y_train)\n",
        "    accTrain.append(trainAc)\n",
        "    testAc = tree.score(X_test, y_test)\n",
        "    accTest.append(testAc)\n",
        "    valAc = tree.score(X_val, y_val)\n",
        "    accVal.append(valAc)   \n",
        "    \n",
        "plt.plot(lnS,accTrain, label=\"training set\")\n",
        "plt.plot(lnS,accVal, label=\"validation set\")\n",
        "plt.plot(lnS,accTest, label=\"test set\")\n",
        "plt.legend(loc=\"best\")\n",
        "plt.ylabel(\"Accuracy Score\")\n",
        "plt.xlabel(\"Min Samples\")\n",
        "plt.show()\n",
        "\n",
        "# Train new model\n",
        "tree = DecisionTreeClassifier(min_samples_leaf=35, random_state=0)\n",
        "tree.fit(X_train, y_train)\n",
        "y_predict = tree.predict(X_test)\n",
        "\n",
        "# evaluation metrics\n",
        "metric1 = balanced_accuracy_score(y_test, y_predict, adjusted=False)\n",
        "metric2 = average_precision_score(y_test, y_predict, average='weighted')\n",
        "metric3 = f1_score(y_test, y_predict, average='weighted')"
      ],
      "metadata": {
        "colab": {
          "base_uri": "https://localhost:8080/",
          "height": 279
        },
        "id": "gzm-w-MMCVhB",
        "outputId": "13d90eb1-9423-489a-c3df-1c91b113cbf7"
      },
      "execution_count": 23,
      "outputs": [
        {
          "output_type": "display_data",
          "data": {
            "text/plain": [
              "<Figure size 432x288 with 1 Axes>"
            ],
            "image/png": "[encoded data removed]"
          },
          "metadata": {
            "needs_background": "light"
          }
        }
      ]
    },
    {
      "cell_type": "code",
      "execution_count": 24,
      "metadata": {
        "id": "HoDBPL6n6LLI",
        "colab": {
          "base_uri": "https://localhost:8080/"
        },
        "outputId": "dad09cc5-7aca-4f7a-a770-6e87ac05cd1c"
      },
      "outputs": [
        {
          "output_type": "stream",
          "name": "stdout",
          "text": [
            "Model score accuracy: 0.827\n",
            "Model score Metric 1: 0.697\n",
            "Model score Metric 2: 0.461\n",
            "Model score Metric 3: 0.810\n"
          ]
        }
      ],
      "source": [
        "print(\"Model score accuracy: %.3f\" % accuracy_score)\n",
        "print(\"Model score Metric 1: %.3f\" % metric1)\n",
        "print(\"Model score Metric 2: %.3f\" % metric2)\n",
        "print(\"Model score Metric 3: %.3f\" % metric3)"
      ]
    },
    {
      "cell_type": "code",
      "source": [
        "tree = DecisionTreeClassifier(min_samples_leaf=40, max_depth=8, random_state=0)\n",
        "tree.fit(X_train, y_train)\n",
        "y_predict = tree.predict(X_test)\n",
        "\n",
        "# evaluation metrics\n",
        "metric1 = balanced_accuracy_score(y_test, y_predict, adjusted=False)\n",
        "metric2 = average_precision_score(y_test, y_predict, average='weighted')\n",
        "metric3 = f1_score(y_test, y_predict, average='weighted')\n",
        "\n",
        "print(\"Model score accuracy: %.3f\" % accuracy_score)\n",
        "print(\"Model score Metric 1: %.3f\" % metric1)\n",
        "print(\"Model score Metric 2: %.3f\" % metric2)\n",
        "print(\"Model score Metric 3: %.3f\" % metric3)"
      ],
      "metadata": {
        "colab": {
          "base_uri": "https://localhost:8080/"
        },
        "id": "ZxhHGrtUDCim",
        "outputId": "0547a029-ceef-45be-ff22-bf3f84f4dba1"
      },
      "execution_count": 25,
      "outputs": [
        {
          "output_type": "stream",
          "name": "stdout",
          "text": [
            "Model score accuracy: 0.827\n",
            "Model score Metric 1: 0.684\n",
            "Model score Metric 2: 0.468\n",
            "Model score Metric 3: 0.809\n"
          ]
        }
      ]
    },
    {
      "cell_type": "markdown",
      "metadata": {
        "deletable": false,
        "id": "ZyG7hhbFnyDx",
        "nbgrader": {
          "cell_type": "markdown",
          "checksum": "b26041c1723d2858ad0833f8985801db",
          "grade": true,
          "grade_id": "cell-c99ca88f33f3717c",
          "locked": false,
          "points": 5,
          "schema_version": 3,
          "solution": true,
          "task": false
        }
      },
      "source": [
        "YOUR ANSWER HERE"
      ]
    },
    {
      "cell_type": "code",
      "source": [
        "\"\"\"\n",
        "Eventually, the best model is that, resulting from a grid search which uses \n",
        "cross validation (first code cell of section 3.3).\n",
        "\"\"\""
      ],
      "metadata": {
        "id": "OY2lnqpLVTsu",
        "colab": {
          "base_uri": "https://localhost:8080/",
          "height": 36
        },
        "outputId": "bdeaa90f-317b-4f9a-d975-7c3511d7dc38"
      },
      "execution_count": 26,
      "outputs": [
        {
          "output_type": "execute_result",
          "data": {
            "text/plain": [
              "'\\nEventually, the best model is that, resulting from a grid search which uses \\ncross validation (first code cell of section 3.3).\\n'"
            ],
            "application/vnd.google.colaboratory.intrinsic+json": {
              "type": "string"
            }
          },
          "metadata": {},
          "execution_count": 26
        }
      ]
    }
  ],
  "metadata": {
    "colab": {
      "collapsed_sections": [],
      "name": "9403_Konstantinos_Petridis_kpetridis@ece.auth.gr_DecisionTrees.ipynb",
      "provenance": []
    },
    "kernelspec": {
      "display_name": "Python 3",
      "language": "python",
      "name": "python3"
    },
    "language_info": {
      "codemirror_mode": {
        "name": "ipython",
        "version": 3
      },
      "file_extension": ".py",
      "mimetype": "text/x-python",
      "name": "python",
      "nbconvert_exporter": "python",
      "pygments_lexer": "ipython3",
      "version": "3.7.10"
    },
    "pycharm": {
      "stem_cell": {
        "cell_type": "raw",
        "metadata": {
          "collapsed": false
        },
        "source": []
      }
    }
  },
  "nbformat": 4,
  "nbformat_minor": 0
}